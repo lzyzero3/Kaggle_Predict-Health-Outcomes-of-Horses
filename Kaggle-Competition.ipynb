{
 "cells": [
  {
   "cell_type": "code",
   "execution_count": 293,
   "id": "initial_id",
   "metadata": {
    "collapsed": true,
    "ExecuteTime": {
     "end_time": "2023-09-26T06:01:52.990563500Z",
     "start_time": "2023-09-26T06:01:52.984483200Z"
    }
   },
   "outputs": [],
   "source": [
    "import pandas as pd\n",
    "import numpy as np\n",
    "from sklearn.preprocessing import StandardScaler\n",
    "from sklearn.preprocessing import LabelEncoder"
   ]
  },
  {
   "cell_type": "code",
   "execution_count": 294,
   "outputs": [],
   "source": [
    "train_data = pd.read_csv('train.csv')\n",
    "test_data= pd.read_csv('test.csv')\n",
    "sample_submission = pd.read_csv('sample_submission.csv')"
   ],
   "metadata": {
    "collapsed": false,
    "ExecuteTime": {
     "end_time": "2023-09-26T06:01:53.207785900Z",
     "start_time": "2023-09-26T06:01:53.193714400Z"
    }
   },
   "id": "e7b117806b0af77d"
  },
  {
   "cell_type": "code",
   "execution_count": 295,
   "outputs": [
    {
     "data": {
      "text/plain": "<bound method DataFrame.info of         id surgery    age  hospital_number  rectal_temp  pulse  \\\n0        0     yes  adult           530001         38.1  132.0   \n1        1     yes  adult           533836         37.5   88.0   \n2        2     yes  adult           529812         38.3  120.0   \n3        3     yes  adult          5262541         37.1   72.0   \n4        4      no  adult          5299629         38.0   52.0   \n...    ...     ...    ...              ...          ...    ...   \n1230  1230     yes  adult           535246         38.5  129.0   \n1231  1231     yes  adult           528570         37.5   60.0   \n1232  1232     yes  young           529685         37.5   84.0   \n1233  1233     yes  adult           534784         38.1   70.0   \n1234  1234     yes  adult           528548         38.1   54.0   \n\n      respiratory_rate temp_of_extremities peripheral_pulse mucous_membrane  \\\n0                 24.0                cool          reduced   dark_cyanotic   \n1                 12.0                cool           normal   pale_cyanotic   \n2                 28.0                cool          reduced       pale_pink   \n3                 30.0                cold          reduced       pale_pink   \n4                 48.0              normal           normal     normal_pink   \n...                ...                 ...              ...             ...   \n1230              48.0                cool          reduced       pale_pink   \n1231              50.0                cool          reduced   pale_cyanotic   \n1232              40.0              normal          reduced     normal_pink   \n1233              16.0              normal          reduced      bright_red   \n1234              36.0              normal           normal       pale_pink   \n\n      ... packed_cell_volume total_protein abdomo_appearance abdomo_protein  \\\n0     ...               57.0           8.5     serosanguious            3.4   \n1     ...               33.0          64.0     serosanguious            2.0   \n2     ...               37.0           6.4     serosanguious            3.4   \n3     ...               53.0           7.0            cloudy            3.9   \n4     ...               47.0           7.3            cloudy            2.6   \n...   ...                ...           ...               ...            ...   \n1230  ...               57.0          66.0     serosanguious            2.0   \n1231  ...               35.0           6.4     serosanguious            3.6   \n1232  ...               40.0           5.9            cloudy            7.0   \n1233  ...               58.0          74.0            cloudy            2.0   \n1234  ...               45.0           6.0             clear            3.6   \n\n     surgical_lesion lesion_1  lesion_2 lesion_3 cp_data     outcome  \n0                yes     2209         0        0      no        died  \n1                yes     2208         0        0      no  euthanized  \n2                yes     5124         0        0      no       lived  \n3                yes     2208         0        0     yes       lived  \n4                 no        0         0        0     yes       lived  \n...              ...      ...       ...      ...     ...         ...  \n1230             yes     2206         0        0      no       lived  \n1231             yes     2209         0        0     yes        died  \n1232             yes      400         0        0     yes       lived  \n1233             yes     2209         0        0      no       lived  \n1234             yes     2124         0        0     yes       lived  \n\n[1235 rows x 29 columns]>"
     },
     "execution_count": 295,
     "metadata": {},
     "output_type": "execute_result"
    }
   ],
   "source": [
    "train_data.info"
   ],
   "metadata": {
    "collapsed": false,
    "ExecuteTime": {
     "end_time": "2023-09-26T06:01:53.403110800Z",
     "start_time": "2023-09-26T06:01:53.393825900Z"
    }
   },
   "id": "589c3286b2a9b2ef"
  },
  {
   "cell_type": "markdown",
   "source": [
    "1. Data Cleaning, Preproessing and Wrangling"
   ],
   "metadata": {
    "collapsed": false
   },
   "id": "b4b4f2e53bb17cda"
  },
  {
   "cell_type": "code",
   "execution_count": 296,
   "outputs": [
    {
     "name": "stdout",
     "output_type": "stream",
     "text": [
      "abdomen                  17.246964\n",
      "rectal_exam_feces        15.384615\n",
      "nasogastric_tube          6.477733\n",
      "peripheral_pulse          4.858300\n",
      "abdomo_appearance         3.886640\n",
      "pain                      3.562753\n",
      "temp_of_extremities       3.157895\n",
      "abdominal_distention      1.862348\n",
      "mucous_membrane           1.700405\n",
      "nasogastric_reflux        1.700405\n",
      "peristalsis               1.619433\n",
      "capillary_refill_time     0.485830\n",
      "dtype: float64\n"
     ]
    }
   ],
   "source": [
    "missing = train_data.isnull().sum() / len(train_data) * 100\n",
    "missing = missing[missing > 0].sort_values(ascending=False)\n",
    "print(missing)"
   ],
   "metadata": {
    "collapsed": false,
    "ExecuteTime": {
     "end_time": "2023-09-26T06:01:54.290704500Z",
     "start_time": "2023-09-26T06:01:54.236726400Z"
    }
   },
   "id": "dfb2e784e83a5b99"
  },
  {
   "cell_type": "code",
   "execution_count": 297,
   "outputs": [],
   "source": [
    "drop_col = missing[missing > 10].index.tolist()\n",
    "train_data = train_data.drop(columns = drop_col)\n",
    "test_data = test_data.drop(columns= drop_col)\n",
    "train_data = train_data.drop(columns= 'id')\n",
    "test_data = test_data.drop(columns= 'id')"
   ],
   "metadata": {
    "collapsed": false,
    "ExecuteTime": {
     "end_time": "2023-09-26T06:01:57.263574500Z",
     "start_time": "2023-09-26T06:01:57.256497700Z"
    }
   },
   "id": "9d9c9743d256ca75"
  },
  {
   "cell_type": "code",
   "execution_count": 298,
   "outputs": [],
   "source": [
    "numeric_features = train_data.select_dtypes(include=[np.number]).columns.tolist()\n",
    "categorical_features = train_data.select_dtypes(exclude=[np.number]).columns.tolist()"
   ],
   "metadata": {
    "collapsed": false,
    "ExecuteTime": {
     "end_time": "2023-09-26T06:02:00.291173900Z",
     "start_time": "2023-09-26T06:02:00.280788400Z"
    }
   },
   "id": "db54c1e81d261c91"
  },
  {
   "cell_type": "code",
   "execution_count": 251,
   "outputs": [],
   "source": [
    "scaler = StandardScaler()\n",
    "train_data[numeric_features] = scaler.fit_transform(train_data[numeric_features])\n",
    "test_data[numeric_features] = scaler.fit_transform(test_data[numeric_features])"
   ],
   "metadata": {
    "collapsed": false,
    "ExecuteTime": {
     "end_time": "2023-09-26T05:19:36.256429900Z",
     "start_time": "2023-09-26T05:19:36.245536800Z"
    }
   },
   "id": "5e052bafe91def5c"
  },
  {
   "cell_type": "code",
   "execution_count": 299,
   "outputs": [],
   "source": [
    "for feature in numeric_features:\n",
    "    if feature != 'outcome':\n",
    "        median_value = train_data[feature].median()\n",
    "        train_data[feature].fillna(median_value, inplace=True)\n",
    "        test_data[feature].fillna(median_value, inplace=True)\n",
    "for feature in categorical_features:\n",
    "    if feature != 'outcome':\n",
    "      mode_value = train_data[feature].mode()[0]\n",
    "      train_data[feature].fillna(mode_value, inplace=True)\n",
    "      test_data[feature].fillna(mode_value, inplace=True)"
   ],
   "metadata": {
    "collapsed": false,
    "ExecuteTime": {
     "end_time": "2023-09-26T06:02:02.094818100Z",
     "start_time": "2023-09-26T06:02:02.081282Z"
    }
   },
   "id": "f1b14952e495fa14"
  },
  {
   "cell_type": "code",
   "execution_count": 300,
   "outputs": [],
   "source": [
    "X = train_data\n",
    "test_X = test_data"
   ],
   "metadata": {
    "collapsed": false,
    "ExecuteTime": {
     "end_time": "2023-09-26T06:02:04.095686300Z",
     "start_time": "2023-09-26T06:02:04.087802Z"
    }
   },
   "id": "809295a314dbebab"
  },
  {
   "cell_type": "code",
   "execution_count": 301,
   "outputs": [],
   "source": [
    "df_1 = pd.get_dummies(X['mucous_membrane'])\n",
    "df_1 = df_1.astype(int)\n",
    "X.drop('mucous_membrane', axis = 1, inplace= True)\n",
    "X = pd.concat([X, df_1], axis=1)\n",
    "\n",
    "le = LabelEncoder()   \n",
    "columns_for_le = ['surgical_lesion', 'surgery', 'age','cp_data']\n",
    "for col in columns_for_le :\n",
    "    X[col] = le.fit_transform(X[col])"
   ],
   "metadata": {
    "collapsed": false,
    "ExecuteTime": {
     "end_time": "2023-09-26T06:02:04.353332Z",
     "start_time": "2023-09-26T06:02:04.345075700Z"
    }
   },
   "id": "2afce6a1ab897a9c"
  },
  {
   "cell_type": "code",
   "execution_count": 302,
   "outputs": [],
   "source": [
    "X['temp_of_extremities'] = X['temp_of_extremities'].map({'cold':0,'cool':1,'normal' : 2, 'warm' : 3})\n",
    "X['peripheral_pulse'] = X['peripheral_pulse'].map({'absent': 0, 'reduced': 1, 'normal': 2, 'increased': 3})\n",
    "X['capillary_refill_time'] = X['capillary_refill_time'].map({'less_3_sec':0,'3':1,'more_3_sec':2})\n",
    "X['pain'] = X['pain'].map({'alert': 0, 'depressed': 1, 'slight': 1, 'mild_pain': 2, 'severe_pain': 3, 'extreme_pain': 4})\n",
    "X['peristalsis'] = X['peristalsis'].map({'hypermotile': 0, 'normal': 1, 'distend_small':1, 'hypomotile': 2, 'absent': 3})\n",
    "X['abdominal_distention'] = X['abdominal_distention'].map({'none': 0, 'slight': 1, 'moderate': 2, 'severe': 3})\n",
    "X['nasogastric_reflux'] = X['nasogastric_reflux'].map({'less_1_liter': 0, 'none': 1, 'slight':1,'more_1_liter': 2})\n",
    "X['nasogastric_tube'] = X['nasogastric_tube'].map({'none': 0, 'slight': 1, 'significant': 2})\n",
    "X['abdomo_appearance'] = X['abdomo_appearance'].map({'clear': 0, 'cloudy': 1, 'serosanguious': 2})"
   ],
   "metadata": {
    "collapsed": false,
    "ExecuteTime": {
     "end_time": "2023-09-26T06:02:04.706891100Z",
     "start_time": "2023-09-26T06:02:04.699392600Z"
    }
   },
   "id": "e9791ed290c96c4c"
  },
  {
   "cell_type": "code",
   "execution_count": 303,
   "outputs": [],
   "source": [
    "df_2 = pd.get_dummies(test_X['mucous_membrane'])\n",
    "df_2 = df_2.astype(int)\n",
    "test_X.drop('mucous_membrane', axis = 1, inplace= True)\n",
    "test_X = pd.concat([test_X, df_2], axis=1)\n",
    "\n",
    "le = LabelEncoder()   \n",
    "columns_for_le = ['surgical_lesion', 'surgery', 'age','cp_data']\n",
    "for col in columns_for_le :\n",
    "    test_X[col] = le.fit_transform(test_X[col])"
   ],
   "metadata": {
    "collapsed": false,
    "ExecuteTime": {
     "end_time": "2023-09-26T06:02:05.258736800Z",
     "start_time": "2023-09-26T06:02:05.249426800Z"
    }
   },
   "id": "2f98d6c7ace55f5e"
  },
  {
   "cell_type": "code",
   "execution_count": 304,
   "outputs": [],
   "source": [
    "test_X['temp_of_extremities'] = test_X['temp_of_extremities'].map({'cold':0,'cool':1,'normal' : 2, 'warm' : 3})\n",
    "test_X['peripheral_pulse'] = test_X['peripheral_pulse'].map({'absent': 0, 'reduced': 1, 'normal': 2, 'increased': 3})\n",
    "test_X['capillary_refill_time'] = test_X['capillary_refill_time'].map({'less_3_sec':0,'3':1,'more_3_sec':2})\n",
    "test_X['pain'] = test_X['pain'].map({'alert': 0, 'depressed': 1, 'moderate': 1, 'mild_pain': 2, 'severe_pain': 3, 'extreme_pain': 4})\n",
    "test_X['peristalsis'] = test_X['peristalsis'].map({'hypermotile': 0, 'normal': 1, 'distend_small':1, 'hypomotile': 2, 'absent': 3})\n",
    "test_X['abdominal_distention'] = test_X['abdominal_distention'].map({'none': 0, 'slight': 1, 'moderate': 2, 'severe': 3})\n",
    "test_X['nasogastric_tube'] = test_X['nasogastric_tube'].map({'none': 0, 'slight': 1, 'significant': 2})\n",
    "test_X['nasogastric_reflux'] = test_X['nasogastric_reflux'].map({'less_1_liter': 0, 'none': 1, 'slight':1,'more_1_liter': 2})\n",
    "test_X['abdomo_appearance'] = test_X['abdomo_appearance'].map({'clear': 0, 'cloudy': 1, 'serosanguious': 2})\n"
   ],
   "metadata": {
    "collapsed": false,
    "ExecuteTime": {
     "end_time": "2023-09-26T06:02:05.461417600Z",
     "start_time": "2023-09-26T06:02:05.455350600Z"
    }
   },
   "id": "81c51023e919eb3d"
  },
  {
   "cell_type": "code",
   "execution_count": 305,
   "outputs": [],
   "source": [
    "X = X.drop('lesion_3', axis=1)\n",
    "test_X = test_X.drop('lesion_3', axis=1)"
   ],
   "metadata": {
    "collapsed": false,
    "ExecuteTime": {
     "end_time": "2023-09-26T06:02:05.970286300Z",
     "start_time": "2023-09-26T06:02:05.962229400Z"
    }
   },
   "id": "485516730e6b982c"
  },
  {
   "cell_type": "code",
   "execution_count": 306,
   "outputs": [],
   "source": [
    "import xgboost as xgb\n",
    "from sklearn.model_selection import cross_val_score\n",
    "\n",
    "X['outcome'] = le.fit_transform(X['outcome'])\n",
    "\n",
    "xgb_model = xgb.XGBClassifier(n_estimators=100, random_state=42).fit(X.drop('outcome',axis=1),X['outcome'])\n",
    "\n",
    "xgb_pred = xgb_model.predict(test_X)\n"
   ],
   "metadata": {
    "collapsed": false,
    "ExecuteTime": {
     "end_time": "2023-09-26T06:02:06.408768900Z",
     "start_time": "2023-09-26T06:02:06.264316300Z"
    }
   },
   "id": "9c2a5a3fe2731b0e"
  },
  {
   "cell_type": "code",
   "execution_count": 307,
   "outputs": [
    {
     "name": "stdout",
     "output_type": "stream",
     "text": [
      "Fold 1 Accuracy: 0.64\n",
      "Fold 2 Accuracy: 0.72\n",
      "Fold 3 Accuracy: 0.76\n",
      "Fold 4 Accuracy: 0.64\n",
      "Fold 5 Accuracy: 0.71\n",
      "Mean Accuracy: 0.69\n"
     ]
    },
    {
     "data": {
      "text/plain": "['lived',\n 'died',\n 'lived',\n 'euthanized',\n 'lived',\n 'died',\n 'died',\n 'died',\n 'lived',\n 'lived',\n 'died',\n 'lived',\n 'lived',\n 'euthanized',\n 'died',\n 'lived',\n 'lived',\n 'died',\n 'died',\n 'died',\n 'died',\n 'died',\n 'lived',\n 'lived',\n 'died',\n 'lived',\n 'died',\n 'euthanized',\n 'lived',\n 'died',\n 'lived',\n 'lived',\n 'died',\n 'died',\n 'lived',\n 'euthanized',\n 'lived',\n 'lived',\n 'died',\n 'lived',\n 'died',\n 'euthanized',\n 'died',\n 'euthanized',\n 'lived',\n 'lived',\n 'died',\n 'lived',\n 'lived',\n 'died',\n 'died',\n 'lived',\n 'died',\n 'died',\n 'died',\n 'lived',\n 'died',\n 'died',\n 'euthanized',\n 'died',\n 'died',\n 'euthanized',\n 'lived',\n 'died',\n 'died',\n 'lived',\n 'euthanized',\n 'died',\n 'lived',\n 'died',\n 'died',\n 'died',\n 'lived',\n 'lived',\n 'euthanized',\n 'died',\n 'euthanized',\n 'euthanized',\n 'died',\n 'euthanized',\n 'died',\n 'euthanized',\n 'lived',\n 'euthanized',\n 'lived',\n 'lived',\n 'lived',\n 'euthanized',\n 'euthanized',\n 'lived',\n 'euthanized',\n 'lived',\n 'died',\n 'euthanized',\n 'euthanized',\n 'euthanized',\n 'died',\n 'lived',\n 'died',\n 'euthanized',\n 'died',\n 'lived',\n 'lived',\n 'lived',\n 'euthanized',\n 'lived',\n 'died',\n 'died',\n 'lived',\n 'lived',\n 'died',\n 'lived',\n 'lived',\n 'died',\n 'lived',\n 'died',\n 'lived',\n 'died',\n 'died',\n 'lived',\n 'died',\n 'lived',\n 'lived',\n 'lived',\n 'lived',\n 'lived',\n 'died',\n 'euthanized',\n 'euthanized',\n 'lived',\n 'euthanized',\n 'lived',\n 'lived',\n 'died',\n 'died',\n 'lived',\n 'died',\n 'euthanized',\n 'lived',\n 'lived',\n 'died',\n 'died',\n 'lived',\n 'died',\n 'died',\n 'lived',\n 'died',\n 'euthanized',\n 'died',\n 'euthanized',\n 'died',\n 'died',\n 'lived',\n 'lived',\n 'died',\n 'lived',\n 'died',\n 'lived',\n 'died',\n 'euthanized',\n 'lived',\n 'died',\n 'lived',\n 'euthanized',\n 'died',\n 'died',\n 'died',\n 'lived',\n 'euthanized',\n 'lived',\n 'died',\n 'lived',\n 'lived',\n 'euthanized',\n 'lived',\n 'lived',\n 'died',\n 'euthanized',\n 'lived',\n 'lived',\n 'died',\n 'lived',\n 'lived',\n 'lived',\n 'died',\n 'died',\n 'lived',\n 'euthanized',\n 'lived',\n 'lived',\n 'lived',\n 'lived',\n 'died',\n 'died',\n 'lived',\n 'died',\n 'died',\n 'lived',\n 'died',\n 'died',\n 'died',\n 'euthanized',\n 'lived',\n 'lived',\n 'died',\n 'lived',\n 'lived',\n 'died',\n 'euthanized',\n 'lived',\n 'lived',\n 'lived',\n 'lived',\n 'lived',\n 'lived',\n 'euthanized',\n 'lived',\n 'euthanized',\n 'euthanized',\n 'lived',\n 'lived',\n 'euthanized',\n 'euthanized',\n 'died',\n 'died',\n 'lived',\n 'died',\n 'lived',\n 'died',\n 'lived',\n 'lived',\n 'lived',\n 'died',\n 'lived',\n 'euthanized',\n 'lived',\n 'lived',\n 'died',\n 'died',\n 'lived',\n 'lived',\n 'died',\n 'lived',\n 'lived',\n 'lived',\n 'lived',\n 'lived',\n 'died',\n 'died',\n 'lived',\n 'died',\n 'lived',\n 'died',\n 'euthanized',\n 'died',\n 'died',\n 'lived',\n 'lived',\n 'euthanized',\n 'lived',\n 'euthanized',\n 'died',\n 'died',\n 'lived',\n 'died',\n 'lived',\n 'lived',\n 'died',\n 'lived',\n 'lived',\n 'lived',\n 'died',\n 'euthanized',\n 'lived',\n 'lived',\n 'lived',\n 'died',\n 'lived',\n 'died',\n 'euthanized',\n 'died',\n 'lived',\n 'died',\n 'lived',\n 'died',\n 'died',\n 'lived',\n 'died',\n 'lived',\n 'died',\n 'lived',\n 'died',\n 'died',\n 'euthanized',\n 'died',\n 'died',\n 'lived',\n 'died',\n 'lived',\n 'died',\n 'lived',\n 'died',\n 'lived',\n 'lived',\n 'lived',\n 'lived',\n 'euthanized',\n 'euthanized',\n 'euthanized',\n 'died',\n 'lived',\n 'lived',\n 'died',\n 'died',\n 'lived',\n 'lived',\n 'lived',\n 'lived',\n 'died',\n 'lived',\n 'died',\n 'died',\n 'lived',\n 'lived',\n 'died',\n 'died',\n 'died',\n 'lived',\n 'died',\n 'lived',\n 'lived',\n 'died',\n 'euthanized',\n 'died',\n 'lived',\n 'died',\n 'died',\n 'lived',\n 'lived',\n 'lived',\n 'lived',\n 'lived',\n 'died',\n 'lived',\n 'lived',\n 'died',\n 'lived',\n 'died',\n 'lived',\n 'lived',\n 'died',\n 'lived',\n 'lived',\n 'died',\n 'euthanized',\n 'died',\n 'euthanized',\n 'lived',\n 'died',\n 'died',\n 'died',\n 'died',\n 'died',\n 'died',\n 'lived',\n 'died',\n 'died',\n 'lived',\n 'lived',\n 'lived',\n 'lived',\n 'lived',\n 'lived',\n 'euthanized',\n 'lived',\n 'died',\n 'euthanized',\n 'died',\n 'lived',\n 'lived',\n 'died',\n 'died',\n 'lived',\n 'died',\n 'lived',\n 'lived',\n 'died',\n 'euthanized',\n 'lived',\n 'died',\n 'euthanized',\n 'died',\n 'euthanized',\n 'euthanized',\n 'lived',\n 'euthanized',\n 'lived',\n 'died',\n 'lived',\n 'died',\n 'euthanized',\n 'lived',\n 'died',\n 'died',\n 'died',\n 'euthanized',\n 'euthanized',\n 'lived',\n 'died',\n 'lived',\n 'lived',\n 'lived',\n 'died',\n 'died',\n 'lived',\n 'died',\n 'lived',\n 'died',\n 'lived',\n 'euthanized',\n 'lived',\n 'died',\n 'died',\n 'died',\n 'died',\n 'died',\n 'lived',\n 'euthanized',\n 'lived',\n 'lived',\n 'lived',\n 'euthanized',\n 'lived',\n 'died',\n 'lived',\n 'died',\n 'lived',\n 'lived',\n 'lived',\n 'died',\n 'died',\n 'lived',\n 'lived',\n 'died',\n 'died',\n 'died',\n 'lived',\n 'died',\n 'lived',\n 'died',\n 'euthanized',\n 'euthanized',\n 'died',\n 'died',\n 'died',\n 'lived',\n 'lived',\n 'lived',\n 'died',\n 'lived',\n 'lived',\n 'euthanized',\n 'died',\n 'died',\n 'died',\n 'lived',\n 'euthanized',\n 'lived',\n 'died',\n 'lived',\n 'lived',\n 'died',\n 'lived',\n 'euthanized',\n 'lived',\n 'died',\n 'lived',\n 'lived',\n 'lived',\n 'died',\n 'died',\n 'died',\n 'lived',\n 'euthanized',\n 'lived',\n 'died',\n 'died',\n 'lived',\n 'died',\n 'died',\n 'died',\n 'died',\n 'lived',\n 'lived',\n 'lived',\n 'died',\n 'lived',\n 'euthanized',\n 'died',\n 'lived',\n 'euthanized',\n 'lived',\n 'euthanized',\n 'euthanized',\n 'lived',\n 'lived',\n 'died',\n 'lived',\n 'died',\n 'euthanized',\n 'died',\n 'died',\n 'lived',\n 'lived',\n 'died',\n 'lived',\n 'euthanized',\n 'lived',\n 'died',\n 'lived',\n 'lived',\n 'lived',\n 'lived',\n 'lived',\n 'lived',\n 'died',\n 'died',\n 'lived',\n 'lived',\n 'died',\n 'died',\n 'euthanized',\n 'euthanized',\n 'died',\n 'lived',\n 'died',\n 'lived',\n 'died',\n 'lived',\n 'died',\n 'lived',\n 'lived',\n 'died',\n 'lived',\n 'died',\n 'lived',\n 'died',\n 'euthanized',\n 'lived',\n 'lived',\n 'euthanized',\n 'lived',\n 'lived',\n 'euthanized',\n 'euthanized',\n 'euthanized',\n 'died',\n 'died',\n 'died',\n 'euthanized',\n 'lived',\n 'died',\n 'lived',\n 'lived',\n 'died',\n 'died',\n 'lived',\n 'lived',\n 'died',\n 'lived',\n 'died',\n 'lived',\n 'euthanized',\n 'died',\n 'lived',\n 'euthanized',\n 'lived',\n 'died',\n 'lived',\n 'lived',\n 'died',\n 'lived',\n 'died',\n 'lived',\n 'euthanized',\n 'died',\n 'lived',\n 'lived',\n 'lived',\n 'lived',\n 'lived',\n 'lived',\n 'euthanized',\n 'died',\n 'died',\n 'lived',\n 'lived',\n 'lived',\n 'died',\n 'lived',\n 'lived',\n 'euthanized',\n 'euthanized',\n 'euthanized',\n 'lived',\n 'lived',\n 'lived',\n 'lived',\n 'lived',\n 'died',\n 'euthanized',\n 'euthanized',\n 'died',\n 'lived',\n 'lived',\n 'died',\n 'lived',\n 'euthanized',\n 'lived',\n 'died',\n 'lived',\n 'died',\n 'died',\n 'lived',\n 'lived',\n 'lived',\n 'lived',\n 'died',\n 'died',\n 'lived',\n 'euthanized',\n 'died',\n 'lived',\n 'died',\n 'died',\n 'died',\n 'lived',\n 'lived',\n 'died',\n 'lived',\n 'lived',\n 'lived',\n 'euthanized',\n 'lived',\n 'lived',\n 'died',\n 'lived',\n 'lived',\n 'lived',\n 'lived',\n 'euthanized',\n 'died',\n 'lived',\n 'died',\n 'euthanized',\n 'lived',\n 'euthanized',\n 'lived',\n 'lived',\n 'lived',\n 'euthanized',\n 'lived',\n 'died',\n 'lived',\n 'lived',\n 'lived',\n 'died',\n 'died',\n 'died',\n 'died',\n 'euthanized',\n 'euthanized',\n 'died',\n 'euthanized',\n 'died',\n 'died',\n 'lived',\n 'died',\n 'lived',\n 'lived',\n 'died',\n 'euthanized',\n 'lived',\n 'lived',\n 'lived',\n 'lived',\n 'lived',\n 'lived',\n 'lived',\n 'euthanized',\n 'died',\n 'lived',\n 'lived',\n 'lived',\n 'died',\n 'lived',\n 'euthanized',\n 'lived',\n 'died',\n 'died',\n 'died',\n 'lived',\n 'euthanized',\n 'died',\n 'lived',\n 'lived',\n 'died',\n 'lived',\n 'lived',\n 'lived',\n 'euthanized',\n 'died',\n 'died',\n 'died',\n 'died',\n 'euthanized',\n 'lived',\n 'died',\n 'died',\n 'lived',\n 'died',\n 'died',\n 'lived',\n 'lived',\n 'lived',\n 'lived',\n 'died',\n 'lived',\n 'euthanized',\n 'lived',\n 'died',\n 'died',\n 'lived',\n 'lived',\n 'lived',\n 'lived',\n 'lived',\n 'died',\n 'euthanized',\n 'euthanized',\n 'died',\n 'lived',\n 'euthanized',\n 'lived',\n 'died',\n 'died',\n 'lived',\n 'lived',\n 'died',\n 'died',\n 'euthanized',\n 'lived',\n 'died',\n 'died',\n 'lived',\n 'lived',\n 'lived',\n 'lived',\n 'lived',\n 'died',\n 'died',\n 'died',\n 'died',\n 'euthanized',\n 'lived',\n 'lived',\n 'died',\n 'euthanized',\n 'lived',\n 'lived',\n 'died',\n 'died',\n 'died',\n 'died',\n 'lived',\n 'lived',\n 'died',\n 'died',\n 'died',\n 'lived',\n 'lived',\n 'lived',\n 'lived',\n 'lived',\n 'lived',\n 'lived',\n 'euthanized',\n 'died',\n 'euthanized',\n 'euthanized',\n 'died',\n 'lived',\n 'lived',\n 'died',\n 'lived',\n 'euthanized',\n 'lived',\n 'lived',\n 'died',\n 'lived',\n 'euthanized',\n 'lived',\n 'died',\n 'died',\n 'euthanized',\n 'lived',\n 'died',\n 'lived',\n 'lived',\n 'euthanized',\n 'euthanized',\n 'lived',\n 'lived',\n 'lived',\n 'died',\n 'euthanized',\n 'died',\n 'died',\n 'euthanized',\n 'died',\n 'euthanized',\n 'died',\n 'lived',\n 'lived']"
     },
     "execution_count": 307,
     "metadata": {},
     "output_type": "execute_result"
    }
   ],
   "source": [
    "k = 5 \n",
    "scores = cross_val_score(xgb_model, X.drop('outcome', axis=1), X['outcome'], cv=k, scoring='accuracy')\n",
    "\n",
    "for fold, score in enumerate(scores, start=1):\n",
    "    print(f\"Fold {fold} Accuracy: {score:.2f}\")\n",
    "    \n",
    "mean_accuracy = scores.mean()\n",
    "print(f\"Mean Accuracy: {mean_accuracy:.2f}\")\n",
    "xgb_model.fit(X.drop('outcome', axis=1), X['outcome'])\n",
    "xgb_pred = xgb_model.predict(test_X)\n",
    "\n",
    "class_mapping = {0: 'died', 1: 'euthanized', 2: 'lived'}\n",
    "xgb_pred_str = [class_mapping[pred] for pred in xgb_pred]\n",
    "xgb_pred_str"
   ],
   "metadata": {
    "collapsed": false,
    "ExecuteTime": {
     "end_time": "2023-09-26T06:02:07.537890Z",
     "start_time": "2023-09-26T06:02:06.551705100Z"
    }
   },
   "id": "30ce5a2b81af4597"
  },
  {
   "cell_type": "code",
   "execution_count": 308,
   "outputs": [],
   "source": [
    "from sklearn.ensemble import HistGradientBoostingClassifier\n",
    "\n",
    "hgbm_model = HistGradientBoostingClassifier().fit(X.drop('outcome',axis=1),X['outcome'])\n",
    "hgbm_pred = hgbm_model.predict(test_X)\n"
   ],
   "metadata": {
    "collapsed": false,
    "ExecuteTime": {
     "end_time": "2023-09-26T06:02:08.725331300Z",
     "start_time": "2023-09-26T06:02:07.540898300Z"
    }
   },
   "id": "5ac47948b666114b"
  },
  {
   "cell_type": "code",
   "execution_count": 309,
   "outputs": [
    {
     "name": "stdout",
     "output_type": "stream",
     "text": [
      "Fold 1 Accuracy: 0.64\n",
      "Fold 2 Accuracy: 0.75\n",
      "Fold 3 Accuracy: 0.74\n",
      "Fold 4 Accuracy: 0.65\n",
      "Fold 5 Accuracy: 0.68\n",
      "Mean Accuracy: 0.69\n"
     ]
    },
    {
     "data": {
      "text/plain": "['lived',\n 'died',\n 'lived',\n 'euthanized',\n 'lived',\n 'died',\n 'lived',\n 'died',\n 'lived',\n 'lived',\n 'died',\n 'lived',\n 'euthanized',\n 'euthanized',\n 'died',\n 'lived',\n 'died',\n 'died',\n 'died',\n 'died',\n 'died',\n 'died',\n 'lived',\n 'lived',\n 'died',\n 'lived',\n 'died',\n 'euthanized',\n 'lived',\n 'died',\n 'lived',\n 'died',\n 'died',\n 'died',\n 'lived',\n 'died',\n 'lived',\n 'lived',\n 'died',\n 'lived',\n 'died',\n 'euthanized',\n 'died',\n 'lived',\n 'lived',\n 'lived',\n 'died',\n 'lived',\n 'lived',\n 'died',\n 'died',\n 'lived',\n 'died',\n 'died',\n 'lived',\n 'lived',\n 'died',\n 'died',\n 'euthanized',\n 'died',\n 'died',\n 'euthanized',\n 'lived',\n 'died',\n 'died',\n 'lived',\n 'euthanized',\n 'died',\n 'lived',\n 'lived',\n 'died',\n 'died',\n 'lived',\n 'lived',\n 'euthanized',\n 'died',\n 'lived',\n 'died',\n 'died',\n 'euthanized',\n 'died',\n 'euthanized',\n 'lived',\n 'euthanized',\n 'lived',\n 'lived',\n 'lived',\n 'euthanized',\n 'euthanized',\n 'lived',\n 'euthanized',\n 'lived',\n 'died',\n 'euthanized',\n 'euthanized',\n 'euthanized',\n 'lived',\n 'died',\n 'died',\n 'died',\n 'died',\n 'lived',\n 'lived',\n 'lived',\n 'lived',\n 'lived',\n 'died',\n 'died',\n 'lived',\n 'lived',\n 'died',\n 'euthanized',\n 'lived',\n 'died',\n 'lived',\n 'died',\n 'lived',\n 'died',\n 'euthanized',\n 'lived',\n 'died',\n 'lived',\n 'lived',\n 'lived',\n 'died',\n 'lived',\n 'died',\n 'euthanized',\n 'euthanized',\n 'lived',\n 'euthanized',\n 'lived',\n 'lived',\n 'died',\n 'died',\n 'lived',\n 'died',\n 'euthanized',\n 'lived',\n 'lived',\n 'died',\n 'died',\n 'lived',\n 'died',\n 'died',\n 'lived',\n 'died',\n 'euthanized',\n 'died',\n 'euthanized',\n 'died',\n 'died',\n 'lived',\n 'lived',\n 'died',\n 'lived',\n 'died',\n 'lived',\n 'died',\n 'euthanized',\n 'lived',\n 'died',\n 'lived',\n 'died',\n 'died',\n 'died',\n 'died',\n 'lived',\n 'euthanized',\n 'lived',\n 'lived',\n 'lived',\n 'lived',\n 'euthanized',\n 'died',\n 'lived',\n 'died',\n 'euthanized',\n 'lived',\n 'lived',\n 'died',\n 'lived',\n 'lived',\n 'lived',\n 'died',\n 'died',\n 'lived',\n 'euthanized',\n 'lived',\n 'lived',\n 'lived',\n 'lived',\n 'died',\n 'died',\n 'lived',\n 'died',\n 'died',\n 'lived',\n 'died',\n 'died',\n 'died',\n 'euthanized',\n 'lived',\n 'lived',\n 'died',\n 'lived',\n 'lived',\n 'died',\n 'euthanized',\n 'died',\n 'lived',\n 'lived',\n 'lived',\n 'lived',\n 'lived',\n 'euthanized',\n 'lived',\n 'euthanized',\n 'lived',\n 'lived',\n 'died',\n 'euthanized',\n 'euthanized',\n 'died',\n 'died',\n 'lived',\n 'died',\n 'lived',\n 'died',\n 'lived',\n 'lived',\n 'lived',\n 'died',\n 'lived',\n 'euthanized',\n 'lived',\n 'died',\n 'lived',\n 'died',\n 'lived',\n 'lived',\n 'died',\n 'lived',\n 'lived',\n 'lived',\n 'lived',\n 'lived',\n 'died',\n 'died',\n 'lived',\n 'died',\n 'lived',\n 'died',\n 'euthanized',\n 'died',\n 'died',\n 'lived',\n 'lived',\n 'euthanized',\n 'lived',\n 'euthanized',\n 'died',\n 'died',\n 'lived',\n 'died',\n 'lived',\n 'lived',\n 'died',\n 'lived',\n 'euthanized',\n 'lived',\n 'died',\n 'euthanized',\n 'lived',\n 'lived',\n 'lived',\n 'died',\n 'lived',\n 'died',\n 'euthanized',\n 'died',\n 'lived',\n 'died',\n 'lived',\n 'died',\n 'died',\n 'lived',\n 'died',\n 'lived',\n 'died',\n 'lived',\n 'died',\n 'died',\n 'euthanized',\n 'died',\n 'lived',\n 'lived',\n 'died',\n 'lived',\n 'died',\n 'lived',\n 'died',\n 'lived',\n 'lived',\n 'lived',\n 'lived',\n 'euthanized',\n 'euthanized',\n 'euthanized',\n 'died',\n 'lived',\n 'lived',\n 'died',\n 'died',\n 'lived',\n 'lived',\n 'lived',\n 'lived',\n 'died',\n 'lived',\n 'died',\n 'died',\n 'lived',\n 'euthanized',\n 'lived',\n 'died',\n 'died',\n 'lived',\n 'died',\n 'lived',\n 'lived',\n 'lived',\n 'euthanized',\n 'died',\n 'lived',\n 'euthanized',\n 'died',\n 'lived',\n 'lived',\n 'lived',\n 'lived',\n 'lived',\n 'died',\n 'lived',\n 'lived',\n 'died',\n 'lived',\n 'died',\n 'lived',\n 'lived',\n 'died',\n 'lived',\n 'lived',\n 'died',\n 'euthanized',\n 'died',\n 'euthanized',\n 'lived',\n 'died',\n 'lived',\n 'died',\n 'died',\n 'died',\n 'died',\n 'lived',\n 'died',\n 'died',\n 'lived',\n 'died',\n 'lived',\n 'lived',\n 'lived',\n 'lived',\n 'euthanized',\n 'lived',\n 'died',\n 'euthanized',\n 'died',\n 'lived',\n 'lived',\n 'died',\n 'died',\n 'lived',\n 'died',\n 'lived',\n 'lived',\n 'died',\n 'euthanized',\n 'died',\n 'lived',\n 'died',\n 'died',\n 'euthanized',\n 'euthanized',\n 'lived',\n 'euthanized',\n 'lived',\n 'lived',\n 'lived',\n 'died',\n 'euthanized',\n 'lived',\n 'lived',\n 'died',\n 'died',\n 'died',\n 'euthanized',\n 'lived',\n 'died',\n 'lived',\n 'lived',\n 'lived',\n 'died',\n 'died',\n 'lived',\n 'died',\n 'euthanized',\n 'died',\n 'lived',\n 'euthanized',\n 'lived',\n 'died',\n 'died',\n 'died',\n 'died',\n 'died',\n 'lived',\n 'lived',\n 'lived',\n 'lived',\n 'lived',\n 'euthanized',\n 'died',\n 'died',\n 'lived',\n 'died',\n 'lived',\n 'lived',\n 'lived',\n 'died',\n 'died',\n 'lived',\n 'lived',\n 'died',\n 'euthanized',\n 'died',\n 'died',\n 'died',\n 'lived',\n 'died',\n 'euthanized',\n 'euthanized',\n 'died',\n 'died',\n 'died',\n 'lived',\n 'euthanized',\n 'lived',\n 'died',\n 'lived',\n 'lived',\n 'euthanized',\n 'died',\n 'died',\n 'died',\n 'lived',\n 'euthanized',\n 'lived',\n 'died',\n 'lived',\n 'lived',\n 'died',\n 'lived',\n 'euthanized',\n 'lived',\n 'died',\n 'lived',\n 'lived',\n 'lived',\n 'died',\n 'died',\n 'died',\n 'lived',\n 'euthanized',\n 'lived',\n 'died',\n 'died',\n 'lived',\n 'died',\n 'lived',\n 'died',\n 'died',\n 'lived',\n 'lived',\n 'lived',\n 'died',\n 'lived',\n 'euthanized',\n 'lived',\n 'lived',\n 'euthanized',\n 'lived',\n 'euthanized',\n 'euthanized',\n 'lived',\n 'lived',\n 'died',\n 'lived',\n 'died',\n 'euthanized',\n 'died',\n 'died',\n 'lived',\n 'lived',\n 'died',\n 'lived',\n 'euthanized',\n 'died',\n 'died',\n 'lived',\n 'lived',\n 'died',\n 'lived',\n 'lived',\n 'lived',\n 'died',\n 'died',\n 'lived',\n 'lived',\n 'died',\n 'died',\n 'euthanized',\n 'euthanized',\n 'died',\n 'lived',\n 'died',\n 'lived',\n 'died',\n 'lived',\n 'died',\n 'lived',\n 'lived',\n 'died',\n 'died',\n 'died',\n 'lived',\n 'died',\n 'euthanized',\n 'lived',\n 'died',\n 'euthanized',\n 'lived',\n 'lived',\n 'euthanized',\n 'euthanized',\n 'euthanized',\n 'died',\n 'died',\n 'died',\n 'euthanized',\n 'lived',\n 'died',\n 'lived',\n 'lived',\n 'died',\n 'died',\n 'lived',\n 'lived',\n 'died',\n 'euthanized',\n 'died',\n 'lived',\n 'euthanized',\n 'died',\n 'lived',\n 'euthanized',\n 'lived',\n 'died',\n 'lived',\n 'lived',\n 'died',\n 'lived',\n 'died',\n 'lived',\n 'euthanized',\n 'died',\n 'lived',\n 'lived',\n 'lived',\n 'lived',\n 'lived',\n 'lived',\n 'euthanized',\n 'died',\n 'died',\n 'lived',\n 'lived',\n 'lived',\n 'died',\n 'lived',\n 'lived',\n 'euthanized',\n 'euthanized',\n 'euthanized',\n 'lived',\n 'lived',\n 'lived',\n 'euthanized',\n 'lived',\n 'died',\n 'euthanized',\n 'euthanized',\n 'died',\n 'lived',\n 'lived',\n 'died',\n 'lived',\n 'euthanized',\n 'lived',\n 'died',\n 'lived',\n 'died',\n 'died',\n 'lived',\n 'lived',\n 'lived',\n 'lived',\n 'died',\n 'died',\n 'lived',\n 'euthanized',\n 'died',\n 'lived',\n 'died',\n 'died',\n 'died',\n 'lived',\n 'lived',\n 'died',\n 'lived',\n 'lived',\n 'lived',\n 'euthanized',\n 'lived',\n 'lived',\n 'died',\n 'lived',\n 'lived',\n 'lived',\n 'lived',\n 'euthanized',\n 'died',\n 'lived',\n 'lived',\n 'euthanized',\n 'lived',\n 'euthanized',\n 'lived',\n 'lived',\n 'lived',\n 'lived',\n 'lived',\n 'died',\n 'lived',\n 'lived',\n 'lived',\n 'died',\n 'died',\n 'died',\n 'euthanized',\n 'euthanized',\n 'euthanized',\n 'died',\n 'euthanized',\n 'died',\n 'died',\n 'lived',\n 'died',\n 'lived',\n 'lived',\n 'died',\n 'lived',\n 'lived',\n 'lived',\n 'lived',\n 'lived',\n 'lived',\n 'lived',\n 'lived',\n 'euthanized',\n 'lived',\n 'lived',\n 'lived',\n 'lived',\n 'died',\n 'lived',\n 'euthanized',\n 'lived',\n 'died',\n 'died',\n 'died',\n 'lived',\n 'euthanized',\n 'died',\n 'lived',\n 'lived',\n 'died',\n 'lived',\n 'lived',\n 'lived',\n 'euthanized',\n 'died',\n 'died',\n 'euthanized',\n 'died',\n 'euthanized',\n 'died',\n 'lived',\n 'lived',\n 'lived',\n 'died',\n 'died',\n 'lived',\n 'lived',\n 'euthanized',\n 'lived',\n 'died',\n 'lived',\n 'euthanized',\n 'lived',\n 'died',\n 'died',\n 'lived',\n 'lived',\n 'lived',\n 'lived',\n 'lived',\n 'died',\n 'euthanized',\n 'euthanized',\n 'died',\n 'lived',\n 'euthanized',\n 'lived',\n 'died',\n 'died',\n 'lived',\n 'died',\n 'lived',\n 'died',\n 'euthanized',\n 'lived',\n 'died',\n 'died',\n 'died',\n 'lived',\n 'lived',\n 'lived',\n 'died',\n 'died',\n 'died',\n 'died',\n 'died',\n 'euthanized',\n 'lived',\n 'lived',\n 'died',\n 'euthanized',\n 'lived',\n 'lived',\n 'died',\n 'died',\n 'died',\n 'died',\n 'lived',\n 'lived',\n 'died',\n 'died',\n 'lived',\n 'lived',\n 'lived',\n 'lived',\n 'lived',\n 'lived',\n 'lived',\n 'lived',\n 'euthanized',\n 'died',\n 'euthanized',\n 'euthanized',\n 'died',\n 'lived',\n 'lived',\n 'died',\n 'lived',\n 'euthanized',\n 'lived',\n 'lived',\n 'died',\n 'lived',\n 'euthanized',\n 'euthanized',\n 'died',\n 'died',\n 'euthanized',\n 'lived',\n 'died',\n 'lived',\n 'lived',\n 'euthanized',\n 'euthanized',\n 'died',\n 'lived',\n 'lived',\n 'died',\n 'euthanized',\n 'died',\n 'died',\n 'euthanized',\n 'died',\n 'euthanized',\n 'died',\n 'lived',\n 'lived']"
     },
     "execution_count": 309,
     "metadata": {},
     "output_type": "execute_result"
    }
   ],
   "source": [
    "k = 5 \n",
    "scores = cross_val_score(hgbm_model, X.drop('outcome', axis=1), X['outcome'], cv=k, scoring='accuracy')\n",
    "\n",
    "for fold, score in enumerate(scores, start=1):\n",
    "    print(f\"Fold {fold} Accuracy: {score:.2f}\")\n",
    "    \n",
    "mean_accuracy = scores.mean()\n",
    "print(f\"Mean Accuracy: {mean_accuracy:.2f}\")\n",
    "hgbm_model.fit(X.drop('outcome', axis=1), X['outcome'])\n",
    "hgbm_pred = hgbm_model.predict(test_X)\n",
    "\n",
    "class_mapping = {0: 'died', 1: 'euthanized', 2: 'lived'}\n",
    "hgbm_pred_str = [class_mapping[pred] for pred in hgbm_pred]\n",
    "hgbm_pred_str"
   ],
   "metadata": {
    "collapsed": false,
    "ExecuteTime": {
     "end_time": "2023-09-26T06:02:14.776002800Z",
     "start_time": "2023-09-26T06:02:08.722845200Z"
    }
   },
   "id": "533aa201ca0ee2cf"
  },
  {
   "cell_type": "markdown",
   "source": [],
   "metadata": {
    "collapsed": false
   },
   "id": "ad9fa7eaae2d1000"
  },
  {
   "cell_type": "code",
   "execution_count": 291,
   "outputs": [],
   "source": [
    "sample_submission['outcome'] = hgbm_pred_str\n",
    "sample_submission['outcome'] = sample_submission['outcome']\n",
    "sample_submission.to_csv('submission.csv',index=False)"
   ],
   "metadata": {
    "collapsed": false,
    "ExecuteTime": {
     "end_time": "2023-09-26T06:00:14.449776600Z",
     "start_time": "2023-09-26T06:00:14.435918100Z"
    }
   },
   "id": "4853cb1e89d0c458"
  }
 ],
 "metadata": {
  "kernelspec": {
   "display_name": "Python 3",
   "language": "python",
   "name": "python3"
  },
  "language_info": {
   "codemirror_mode": {
    "name": "ipython",
    "version": 2
   },
   "file_extension": ".py",
   "mimetype": "text/x-python",
   "name": "python",
   "nbconvert_exporter": "python",
   "pygments_lexer": "ipython2",
   "version": "2.7.6"
  }
 },
 "nbformat": 4,
 "nbformat_minor": 5
}
